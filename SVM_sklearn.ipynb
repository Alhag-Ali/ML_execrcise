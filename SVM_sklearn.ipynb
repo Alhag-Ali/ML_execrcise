{
 "cells": [
  {
   "cell_type": "markdown",
   "id": "50e93fbd-7366-4145-9044-b316f863b31f",
   "metadata": {},
   "source": [
    "#### An excercise for mastering SVM using sklearn.\n",
    "#### Firstly I will look for the best Hyperparameter for γ and C"
   ]
  },
  {
   "cell_type": "code",
   "execution_count": 1,
   "id": "5dc0df1f-0223-4c57-a7ae-705ae0a662f0",
   "metadata": {},
   "outputs": [],
   "source": [
    "import numpy as np\n",
    "import matplotlib.pyplot as plt\n",
    "from sklearn.datasets import load_iris\n",
    "from sklearn.svm import SVC"
   ]
  },
  {
   "cell_type": "code",
   "execution_count": 2,
   "id": "9404b22e-d52a-450e-956a-a8ee67df3131",
   "metadata": {},
   "outputs": [],
   "source": [
    "# Load Iris dataset.\n",
    "iris = load_iris()"
   ]
  },
  {
   "cell_type": "code",
   "execution_count": 3,
   "id": "705a1196-3d92-4c8d-a9f8-00934fc64708",
   "metadata": {},
   "outputs": [],
   "source": [
    "# Store observations.\n",
    "X = iris.data\n",
    "y = iris.target"
   ]
  },
  {
   "cell_type": "code",
   "execution_count": 12,
   "id": "2adfafef-6f54-4ba1-a1e3-6463bde2bb55",
   "metadata": {},
   "outputs": [
    {
     "data": {
      "text/plain": [
       "(150, 4)"
      ]
     },
     "execution_count": 12,
     "metadata": {},
     "output_type": "execute_result"
    }
   ],
   "source": [
    "# Get number of samples and features in dataset.\n",
    "num_samples, num_features = X.shape\n",
    "num_samples, num_features"
   ]
  },
  {
   "cell_type": "code",
   "execution_count": 14,
   "id": "f9debda0-5f23-4b20-ad92-08be74543a4b",
   "metadata": {},
   "outputs": [
    {
     "data": {
      "text/plain": [
       "105"
      ]
     },
     "execution_count": 14,
     "metadata": {},
     "output_type": "execute_result"
    }
   ],
   "source": [
    "# Compute number of samples for training\n",
    "# The floor division // rounds the result down to the nearest whole number\n",
    "num_train = num_samples * 70 // 100\n",
    "num_train"
   ]
  },
  {
   "cell_type": "code",
   "execution_count": 21,
   "id": "9ac72c54-ded7-4387-af33-4d6ae2d4cc7f",
   "metadata": {},
   "outputs": [
    {
     "data": {
      "text/plain": [
       "45"
      ]
     },
     "execution_count": 21,
     "metadata": {},
     "output_type": "execute_result"
    }
   ],
   "source": [
    "# Compute number of samples for testing\n",
    "num_test = num_samples - num_train\n",
    "num_test"
   ]
  },
  {
   "cell_type": "code",
   "execution_count": 22,
   "id": "5236dba8-2ad1-4914-9440-eed6c0ec0525",
   "metadata": {},
   "outputs": [],
   "source": [
    "# Compute random ordering\n",
    "indices = np.random.permutation(num_samples)"
   ]
  },
  {
   "cell_type": "code",
   "execution_count": 23,
   "id": "a986339e-5cc6-4b1f-9bea-0590eb38b323",
   "metadata": {},
   "outputs": [
    {
     "data": {
      "text/plain": [
       "array([2, 2, 0, 2, 0, 0, 0, 0, 2, 2, 1, 0, 2, 0, 2, 0, 1, 2, 1, 0, 0, 2,\n",
       "       0, 1, 2, 1, 0, 1, 0, 0, 2, 2, 1, 0, 1, 1, 2, 2, 2, 0, 0, 2, 1, 2,\n",
       "       1, 2, 2, 2, 1, 1, 1, 0, 2, 2, 2, 2, 1, 1, 0, 0, 0, 0, 2, 1, 1, 1,\n",
       "       2, 1, 0, 1, 1, 0, 2, 1, 0, 0, 0, 0, 0, 2, 0, 1, 1, 2, 2, 0, 0, 1,\n",
       "       2, 1, 2, 0, 1, 0, 0, 0, 2, 0, 0, 0, 1, 1, 0, 1, 2])"
      ]
     },
     "execution_count": 23,
     "metadata": {},
     "output_type": "execute_result"
    }
   ],
   "source": [
    "# Define training set\n",
    "X_train = X[indices[:num_train]]\n",
    "y_train = y[indices[:num_train]]\n",
    "y_train"
   ]
  },
  {
   "cell_type": "code",
   "execution_count": 26,
   "id": "7f04eb33-a9f8-4b5b-8723-d6f05e37a943",
   "metadata": {},
   "outputs": [
    {
     "data": {
      "text/plain": [
       "array([2, 0, 1, 1, 1, 1, 0, 0, 2, 2, 2, 0, 2, 1, 1, 2, 1, 1, 2, 0, 2, 0,\n",
       "       1, 0, 1, 2, 2, 1, 2, 1, 0, 2, 1, 1, 1, 1, 2, 1, 0, 1, 0, 2, 2, 1,\n",
       "       2])"
      ]
     },
     "execution_count": 26,
     "metadata": {},
     "output_type": "execute_result"
    }
   ],
   "source": [
    "# Define testing set\n",
    "X_test = X[indices[num_train:]]\n",
    "y_test = y[indices[num_train:]]\n",
    "y_test"
   ]
  },
  {
   "cell_type": "markdown",
   "id": "d67268a6-1aaf-47ae-9fb8-43a8128ea024",
   "metadata": {},
   "source": [
    "#### We have to find the best hyperparameter C and γ for our dataset."
   ]
  },
  {
   "cell_type": "code",
   "execution_count": 28,
   "id": "e5f9b807-f98c-42f3-b078-7ad7b5630894",
   "metadata": {},
   "outputs": [],
   "source": [
    "# Set number of folders.\n",
    "num_folds = 5"
   ]
  },
  {
   "cell_type": "code",
   "execution_count": 29,
   "id": "e6d8a85c-2a79-426c-a5c0-a54ed1c322b7",
   "metadata": {},
   "outputs": [],
   "source": [
    "# Define values for regularization.\n",
    "choices_C = [0.001, 0.01, 0.1, 1, 10]"
   ]
  },
  {
   "cell_type": "code",
   "execution_count": 30,
   "id": "a7b998d6-793b-49ef-989c-86ec36b7b283",
   "metadata": {},
   "outputs": [],
   "source": [
    "# Define values for kernel coefficient.\n",
    "choices_g = [0.001, 0.1, 1, 10]"
   ]
  },
  {
   "cell_type": "code",
   "execution_count": 35,
   "id": "8a1cbcfb-1087-4b6b-85f1-3f5dd9109fff",
   "metadata": {},
   "outputs": [
    {
     "data": {
      "text/plain": [
       "(5, 4)"
      ]
     },
     "execution_count": 35,
     "metadata": {},
     "output_type": "execute_result"
    }
   ],
   "source": [
    "# Create matrix to store validation results.\n",
    "results = np.empty((len(choices_C), len(choices_g)))\n",
    "results.shape"
   ]
  },
  {
   "cell_type": "code",
   "execution_count": 40,
   "id": "174ad7bc-7518-40e5-b5f6-6ef1c3722e1e",
   "metadata": {},
   "outputs": [],
   "source": [
    "# Partition training set\n",
    "X_train_folds = np.array_split(X_train, num_folds)\n",
    "y_train_folds = np.array_split(y_train, num_folds)"
   ]
  },
  {
   "cell_type": "code",
   "execution_count": 44,
   "id": "0d28ce9e-0cd2-4fce-b573-315862497709",
   "metadata": {},
   "outputs": [
    {
     "ename": "SyntaxError",
     "evalue": "incomplete input (3487054065.py, line 9)",
     "output_type": "error",
     "traceback": [
      "\u001b[1;36m  Cell \u001b[1;32mIn [44], line 9\u001b[1;36m\u001b[0m\n\u001b[1;33m    \u001b[0m\n\u001b[1;37m    ^\u001b[0m\n\u001b[1;31mSyntaxError\u001b[0m\u001b[1;31m:\u001b[0m incomplete input\n"
     ]
    }
   ],
   "source": [
    "# Perform grid search over hyperparameters.\n",
    "for i, C in enumerate(choices_C):\n",
    "    for j, g in enumerate(choices_g):\n",
    "         # Create array to stoe intermediate results.\n",
    "        accuracies = np.empty(num_folds)\n",
    "\n",
    "        # Cross validate hyperparameter setting.\n",
    "        for k in range(num_folds):\n",
    "\n",
    "            # Use current fold for validation\n",
    "            X_val = X_train_folds[k]\n",
    "            y_val = y_train_folds[k]\n",
    "\n",
    "            # Use remaining folds as training set.\n",
    "            X_train_concat = np.concatenate(\n",
    "                X_train_folds[:k] + X_train_folds[k+1:]\n",
    "            )\n",
    "\n",
    "            y_train_concat = np.concatenate(\n",
    "                y_train_folds[:k] + y_train_folds[k+1:]\n",
    "            )\n",
    "\n",
    "            # Create support vector classifier\n",
    "            model = SVC(C=C, gamma=g)\n",
    "\n",
    "            # Fit the model to training data.\n",
    "            model.fit(X_train_concat, y_train_concat)\n",
    "\n",
    "            # Compute and store accuracy.\n",
    "            accuracies[k] model.score(X_val, y_val)"
   ]
  },
  {
   "cell_type": "code",
   "execution_count": 43,
   "id": "2035695a-22b0-44af-9ba2-28ce0e1848e7",
   "metadata": {},
   "outputs": [
    {
     "data": {
      "text/plain": [
       "(5,)"
      ]
     },
     "execution_count": 43,
     "metadata": {},
     "output_type": "execute_result"
    }
   ],
   "source": []
  },
  {
   "cell_type": "code",
   "execution_count": null,
   "id": "7d9cee67-b12b-45df-95eb-b95c69e145bd",
   "metadata": {},
   "outputs": [],
   "source": []
  }
 ],
 "metadata": {
  "kernelspec": {
   "display_name": "Python 3 (ipykernel)",
   "language": "python",
   "name": "python3"
  },
  "language_info": {
   "codemirror_mode": {
    "name": "ipython",
    "version": 3
   },
   "file_extension": ".py",
   "mimetype": "text/x-python",
   "name": "python",
   "nbconvert_exporter": "python",
   "pygments_lexer": "ipython3",
   "version": "3.11.0rc2"
  }
 },
 "nbformat": 4,
 "nbformat_minor": 5
}
