{
 "cells": [
  {
   "cell_type": "markdown",
   "id": "1101d882-a288-458e-ad5c-5cffbe7ea42a",
   "metadata": {},
   "source": [
    "#### This Excersice is a part of Machine Learning course of the Goethe University in FFM. and the content is from the lecture with my notation \n",
    "#### This Notebook will be an execrcise for Decision Trees. I will implement it in numpy. "
   ]
  },
  {
   "cell_type": "code",
   "execution_count": 3,
   "id": "3614a9db-7cbc-4030-b6e9-0bc55959015f",
   "metadata": {},
   "outputs": [],
   "source": [
    "# Definition of a helper function to compute the Gini impurity for leaves.\n",
    "# np.bincount(y): Diese Funktion zählt die Häufigkeit jedes Wertes in dem Array y. Wenn y beispielsweise [0, 1, 1, 2, 2, 2] ist, gibt np.bincount(y) [1, 2, 3] zurück\n",
    "# np.unique(y): Diese Funktion gibt ein Array mit den eindeutigen Werten in y zurück. Wenn y beispielsweise [0, 1, 1, 2, 2, 2] ist, gibt np.unique(y) [0, 1, 2] zurück.\n",
    "\n",
    "def gini_leaf_impurity(y):\n",
    "    \"\"\"\n",
    "    Compute Gini leaf impurity for classification .\n",
    "     Parameters :\n",
    "     − y: Class labels for node data.\n",
    "     Returns :\n",
    "     − Leaf impurity.\n",
    "     Gini_Leaf_Impurity(L) = 1 − p(yes)2 − p(no)2\n",
    "     \"\"\"\n",
    "    return 1 - np.sum((np.bincount(y)[np.unique(y)]/len(y))**2)"
   ]
  },
  {
   "cell_type": "code",
   "execution_count": 6,
   "id": "0f6f7f05-f44e-413f-9784-c25265eaee5f",
   "metadata": {},
   "outputs": [],
   "source": [
    "# We compute the Gini_impurity for inner nodes.\n",
    "def gini_node_impurity(counts, impurities):\n",
    "    \"\"\"\n",
    "    Compute Gini node impurity .\n",
    "     Parameters :\n",
    "     − counts: Tuple with number of samples for split .\n",
    "     − impurities : Tuple with leaf impurities .\n",
    "    Returns:\n",
    "     −Node impurity.\n",
    "      G(Node) = p(L1)G(L1) + p(L2)G(L2)\n",
    "    \"\"\"\n",
    "    return np.sum(counts/np.sum(counts)*impurities)"
   ]
  },
  {
   "cell_type": "markdown",
   "id": "04b97fd1-d078-40a6-a697-6b56419573a1",
   "metadata": {},
   "source": [
    "For clarity, we define a class representing an inner node in the decision tree. We use\n",
    " the special method __call__ to make instances of the class callable. Each inner node\n",
    " has a left and a right child and tests a numerical feature against a threshold for a given\n",
    " data point, returning the corresponding label by calling the nodes assigned as children\n",
    " depending on the outcome of the test."
   ]
  },
  {
   "cell_type": "code",
   "execution_count": null,
   "id": "9d984d06-64da-42b5-aa43-ba6ccf3daa0f",
   "metadata": {},
   "outputs": [],
   "source": [
    "class Node:\n",
    "    def __init__(self, feature, threshold, left, right):\n",
    "        \"\"\"\n",
    "        Create inner node for binary decision tree.\n",
    "         Parameters:\n",
    "         − feature: Index of feature to test.\n",
    "         − threshold: Numerical value to make split .\n",
    "         − left : Left child node.\n",
    "         − right: Right child node.\n",
    "        \"\"\"\n",
    "        self.feature = feature\n",
    "        self.threshold = threshold\n",
    "        self.left = left\n",
    "        self.right = right\n",
    "\n",
    "    def __call__(self, x):\n",
    "        \"\"\"\n",
    "         Evaluate node for given sample.\n",
    "         Parameters:\n",
    "         −x: Data point.\n",
    "         Returns:\n",
    "         −Class label from left or right subtree.\n",
    "        \"\"\"\n",
    "        if x[self.feature] < self.threshold:\n",
    "            return self.left(x)\n",
    "        return self.right(x)"
   ]
  },
  {
   "cell_type": "markdown",
   "id": "61f4ba06-56ec-43e4-b5f0-0cb043635383",
   "metadata": {},
   "source": [
    "We also define a callable class for leaf nodes, which simply returns the assigned label:"
   ]
  },
  {
   "cell_type": "code",
   "execution_count": 11,
   "id": "dc80c4dc-e9d9-4f45-a799-bea501946e32",
   "metadata": {},
   "outputs": [],
   "source": [
    "class Leaf:\n",
    "    def __init__(self, label):\n",
    "        \"\"\"\n",
    "         Create leaf node for decision tree.\n",
    "         Parameters:\n",
    "          − label : Class label to assign to node.\n",
    "        \"\"\"\n",
    "        self.label = label\n",
    "\n",
    "    def __call__(self, x):\n",
    "        \"\"\"\n",
    "         Evaluate node for given sample.\n",
    "         Parameters:\n",
    "         −x: Data point.\n",
    "         Returns:\n",
    "         −Assigned class label .\n",
    "        \"\"\"\n",
    "        return self.label"
   ]
  },
  {
   "cell_type": "code",
   "execution_count": 12,
   "id": "e2207515-a8de-4d0b-9d65-f9e3b9c1336d",
   "metadata": {},
   "outputs": [],
   "source": [
    "class DecisionTree:\n",
    "    def __init__(self, max_depth=100, rando=True):\n",
    "        \"\"\"\n",
    "        Create binary decision tree.\n",
    "        Parameters:\n",
    "         −maxdepth: Maximumdepth of the tree.\n",
    "         −random: Flag for feature bagging.\n",
    "         \"\"\"\n",
    "        self.max_depth = max_depth\n",
    "        self.random = random"
   ]
  },
  {
   "cell_type": "code",
   "execution_count": 16,
   "id": "5384aa45-755e-4be4-8beb-86c808b87193",
   "metadata": {},
   "outputs": [
    {
     "ename": "SyntaxError",
     "evalue": "invalid character '˜' (U+02DC) (3419667001.py, line 30)",
     "output_type": "error",
     "traceback": [
      "\u001b[1;36m  Cell \u001b[1;32mIn [16], line 30\u001b[1;36m\u001b[0m\n\u001b[1;33m    labels = y[condition], y[˜condition]\u001b[0m\n\u001b[1;37m                             ^\u001b[0m\n\u001b[1;31mSyntaxError\u001b[0m\u001b[1;31m:\u001b[0m invalid character '˜' (U+02DC)\n"
     ]
    }
   ],
   "source": [
    "def __split(self, X, y, features):\n",
    "    \"\"\"\n",
    "     Compute feature and threshold to split node.\n",
    "     In order to determine the best split , Gini impurity\n",
    "     is used. Candidate thresholds are computed by averaging\n",
    "     pairs of consecutive feature values. Only numerical\n",
    "     features are supported.\n",
    "     Parameters:\n",
    "         −X: Dataset.\n",
    "         −y: Class labels.\n",
    "         − features: Subset of features.\n",
    "     Returns:\n",
    "         − Selected feature.\n",
    "         − Selected threshold.\n",
    "         − Node impurity.\n",
    "         − Leaf impurities.\n",
    "     \"\"\"\n",
    "    impurity = 1\n",
    "    for feature in features:\n",
    "        # Select current feature and sort in ascending order.\n",
    "        data = np.sort(X[:, feature])\n",
    "\n",
    "        # Compute threhold candidates.\n",
    "        thresholds = (data[1:] + data[:-1])/2\n",
    "\n",
    "        for threshold in thressholds:\n",
    "            condition = data < threshold\n",
    "\n",
    "            # Split labels depending on test.\n",
    "            labels = y[condition], y[condition]\n",
    "\n",
    "            # Compute leaf impurities and counts for child nodes.\n",
    "            leaf_impurities = (\n",
    "                gini_leaf_impurity(labels[0]),\n",
    "                gini_leaf_impurity(labels[1])\n",
    "            )\n",
    "\n",
    "            counts = len(labels[0]), len(labels[1])\n",
    "            \n",
    "            # Compute node impurity.\n",
    "            node_impurity = gini_node_impurity(\n",
    "                counts,\n",
    "                leaf_impurities\n",
    "            )\n",
    "\n",
    "            if node_imputity < impurity:\n",
    "                split = (\n",
    "                    feature, threshold,\n",
    "                    node_impurity, leaf_impurities\n",
    "                )\n",
    "\n",
    "            # update best score.\n",
    "            impurity = node_impurity\n",
    "    \n",
    "    return split        "
   ]
  },
  {
   "cell_type": "code",
   "execution_count": null,
   "id": "19c2c39b-eeb0-4d26-a9f9-8f81c4f0a93e",
   "metadata": {},
   "outputs": [],
   "source": []
  },
  {
   "cell_type": "code",
   "execution_count": null,
   "id": "d2a54680-ad4f-4aec-8a0a-37e257ec8a2f",
   "metadata": {},
   "outputs": [],
   "source": []
  }
 ],
 "metadata": {
  "kernelspec": {
   "display_name": "Python 3 (ipykernel)",
   "language": "python",
   "name": "python3"
  },
  "language_info": {
   "codemirror_mode": {
    "name": "ipython",
    "version": 3
   },
   "file_extension": ".py",
   "mimetype": "text/x-python",
   "name": "python",
   "nbconvert_exporter": "python",
   "pygments_lexer": "ipython3",
   "version": "3.11.0rc2"
  }
 },
 "nbformat": 4,
 "nbformat_minor": 5
}
